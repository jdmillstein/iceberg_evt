{
 "cells": [
  {
   "cell_type": "code",
   "execution_count": null,
   "id": "7e8786b5-9a3b-434e-903f-b4b007c32590",
   "metadata": {
    "scrolled": true
   },
   "outputs": [],
   "source": [
    "#!wget https://daacdata.apps.nsidc.org/pub/DATASETS/nsidc0730_MEASURES_MOA2014_v01/geotiff/moa750_2014_hp1_v01.tif"
   ]
  },
  {
   "cell_type": "code",
   "execution_count": null,
   "id": "ed0a7799-e254-4b02-9544-15c02a878e19",
   "metadata": {},
   "outputs": [],
   "source": [
    "! pip install cmasher"
   ]
  },
  {
   "cell_type": "code",
   "execution_count": null,
   "id": "403fdd8d-a51a-41a8-b0aa-c7319a5f5182",
   "metadata": {},
   "outputs": [],
   "source": [
    "import pandas as pd\n",
    "import numpy as np\n",
    "import os, sys\n",
    "\n",
    "import rasterio, rioxarray\n",
    "from rasterio.plot import show\n",
    "\n",
    "import geopandas as gpd\n",
    "import matplotlib.pyplot as plt\n",
    "import matplotlib.ticker as ticker\n",
    "import matplotlib.path as mpath\n",
    "\n",
    "import cartopy\n",
    "import cartopy.crs as ccrs\n",
    "import cmasher as cm\n",
    "\n",
    "folder_path = '/home/jovyan/' \n",
    "sys.path.append(folder_path)\n",
    "import useful_fx"
   ]
  },
  {
   "cell_type": "code",
   "execution_count": null,
   "id": "2bddd9a9-15c0-4e56-8a08-56b82c2407a6",
   "metadata": {},
   "outputs": [],
   "source": [
    "moa = 'moa750_2014_hp1_v01.tif'"
   ]
  },
  {
   "cell_type": "code",
   "execution_count": null,
   "id": "0b045cf5-8dd2-4896-b1fe-fded28354360",
   "metadata": {},
   "outputs": [],
   "source": [
    "moa_da = rioxarray.open_rasterio(moa)\n",
    "moa_ds = moa_da.to_dataset('band')\n",
    "moa_ds"
   ]
  },
  {
   "cell_type": "code",
   "execution_count": null,
   "id": "2da3268c-527f-4738-929b-3bb41cfd198b",
   "metadata": {},
   "outputs": [],
   "source": [
    "berg_base = pd.read_csv('largest_annual_iceberg_NICBYU_manual_validation_lat_lon.csv')\n",
    "berg_base = berg_base.sort_values(by='Area', ascending=False)"
   ]
  },
  {
   "cell_type": "code",
   "execution_count": null,
   "id": "a9bf41d6-203e-43d9-bf1a-3b3d220e64b4",
   "metadata": {},
   "outputs": [],
   "source": [
    "df = berg_base\n",
    "df['File_Name'] = df['File_Name'].str.upper()"
   ]
  },
  {
   "cell_type": "code",
   "execution_count": null,
   "id": "c1b3a739-9974-4d53-ba54-c56464af8e48",
   "metadata": {},
   "outputs": [],
   "source": [
    "orig_cmap = cm.gem\n",
    "\n",
    "# Cropped colormap (middle 70% of the original colormap)\n",
    "cropped_cmap = useful_fx.crop_colormap(orig_cmap, 0.15, 0.85)\n",
    "\n",
    "# Test the new colormap\n",
    "gradient = np.linspace(0, 1, 256)\n",
    "gradient = np.vstack((gradient, gradient))\n",
    "\n",
    "fig, axes = plt.subplots(nrows=2, figsize=(6, 2), dpi=100)\n",
    "axes[0].imshow(gradient, aspect='auto', cmap=orig_cmap)\n",
    "axes[1].imshow(gradient, aspect='auto', cmap=cropped_cmap)\n",
    "axes[1].set_title('Cropped Colormap (Middle 70%)')\n",
    "for ax in axes:\n",
    "    ax.set_axis_off()\n",
    "plt.tight_layout()\n",
    "plt.show()\n"
   ]
  },
  {
   "cell_type": "code",
   "execution_count": null,
   "id": "26477df4-b101-473b-9386-e2a0b3a8b5b2",
   "metadata": {},
   "outputs": [],
   "source": [
    "# Convert DataFrame to GeoDataFrame\n",
    "gdf = gpd.GeoDataFrame(df, geometry=gpd.points_from_xy(df.nic_2, df.nic_1))\n",
    "gdf.crs = \"EPSG:4326\"\n",
    "\n",
    "with rasterio.open(moa) as tif:\n",
    "    # Plot the TIFF as a background\n",
    "    fig, ax = plt.subplots(figsize=(10, 10))\n",
    "    show(tif, ax=ax, cmap='gist_yarg', vmin=1e4, vmax=2.3e4)\n",
    "    \n",
    "    # Reproject the GeoDataFrame to the TIFF's CRS for accurate overlay\n",
    "    gdf_reprojected = gdf.to_crs(tif.crs)\n",
    "    \n",
    "    # Convert marker sizes and colors based on 'Area'\n",
    "    marker_sizes = gdf_reprojected['Area'] * 0.15\n",
    "    colors = gdf_reprojected['Area']  # Here, we'll use Area directly as color\n",
    "\n",
    "    # Create a scatter plot for the GeoDataFrame points\n",
    "    scatter = ax.scatter(gdf_reprojected.geometry.x, gdf_reprojected.geometry.y, s=marker_sizes, c=colors, cmap=cm.voltage, alpha=0.65)\n",
    "    \n",
    "    # Add text labels for 'File_Name' where 'Area' > 6000\n",
    "    for idx, row in gdf_reprojected.iterrows():\n",
    "        if row['Area'] > 1700:\n",
    "            ax.text(row.geometry.x, row.geometry.y, str(row['Year']), verticalalignment='bottom', fontsize=9)\n",
    "\n",
    "    ax.set_title(\"Bergs\")\n",
    "    \n",
    "    # Create a colorbar\n",
    "    fig.colorbar(scatter, ax=ax, label='Area')\n",
    "\n",
    "plt.show()\n"
   ]
  },
  {
   "cell_type": "code",
   "execution_count": null,
   "id": "bdb51a2f-1cad-4618-a01f-e57748c0d8a3",
   "metadata": {},
   "outputs": [],
   "source": [
    "gdf = gpd.GeoDataFrame(df, geometry=gpd.points_from_xy(df.nic_2, df.nic_1))\n",
    "gdf.crs = \"EPSG:4326\"\n",
    "\n",
    "fig, ax = plt.subplots(figsize=(8, 8), subplot_kw={'projection': ccrs.SouthPolarStereo()})\n",
    "#ax.add_feature(cartopy.feature.COASTLINE)\n",
    "\n",
    "# add title\n",
    "ax.set_title(\"Largest calved iceberg per year, 1976-2023\")\n",
    "\n",
    "# Load and plot MODIS MOA\n",
    "with rasterio.open(moa) as tif:\n",
    "    ax.set_extent([-180, 180, -90, -60], crs=ccrs.PlateCarree())\n",
    "    show(tif, ax=ax, transform=ccrs.PlateCarree(), cmap='gist_yarg', vmin=1.15e4, vmax=2.6e4)\n",
    "\n",
    "# Add lines of longitude and latitude\n",
    "gl = ax.gridlines(draw_labels=True, linewidth=1, color='k', alpha=0.5, linestyle='--')\n",
    "gl.xlocator = ticker.FixedLocator([-180, -135, -90, -45, 0, 45, 90, 135])\n",
    "gl.ylocator = ticker.FixedLocator([-80, -70, -60])\n",
    "\n",
    "# Attempt to make bottom labels horizontal\n",
    "gl.xlabel_style = {'rotation': 0, 'ha': 'center'}  \n",
    "ax.set_extent([-180, 180, -90, -60], crs=ccrs.PlateCarree())\n",
    "\n",
    "\n",
    "# Reproject the GeoDataFrame to the TIFF's CRS for accurate overlay\n",
    "gdf_reprojected = gdf.to_crs(tif.crs)\n",
    "\n",
    "# Convert marker sizes and colors based on 'Area'\n",
    "marker_sizes = gdf_reprojected['Area'] * 0.2\n",
    "colors = gdf_reprojected['Area']  # Here, we'll use Area directly as color\n",
    "\n",
    "# Create a scatter plot for the GeoDataFrame points\n",
    "scatter = ax.scatter(gdf_reprojected.geometry.x, gdf_reprojected.geometry.y, s=marker_sizes, c=colors, \n",
    "                     cmap=cropped_cmap, norm = 'symlog', alpha=0.65)\n",
    "\n",
    "# Add text labels for 'File_Name' where 'Area' > 6000\n",
    "for idx, row in gdf_reprojected.iterrows():\n",
    "    if row['Area'] > 5700:\n",
    "        ax.text(row.geometry.x, row.geometry.y, str(row['File_Name']), verticalalignment='bottom', fontsize=14)\n",
    "\n",
    "\n",
    "\n",
    "# plot the image within a circle, not square\n",
    "theta = np.linspace(0, 2*np.pi, 100)\n",
    "center, radius = [0.5, 0.5], 0.5\n",
    "verts = np.vstack([np.sin(theta), np.cos(theta)]).T\n",
    "circle = mpath.Path(verts * radius + center)\n",
    "\n",
    "ax.set_boundary(circle, transform=ax.transAxes)\n",
    "#plt.savefig('iceberg_map.svg',dpi=230)\n",
    "plt.show()"
   ]
  },
  {
   "cell_type": "code",
   "execution_count": null,
   "id": "a6807101-ad6b-4384-8272-a68677e4c069",
   "metadata": {},
   "outputs": [],
   "source": [
    "#len((df.Date).dropna())\n",
    "#berg_base.sort_values(by='Year', ascending=False)"
   ]
  },
  {
   "cell_type": "code",
   "execution_count": null,
   "id": "14cb927d-73c0-4229-ae89-d1c3a96d7ddf",
   "metadata": {},
   "outputs": [],
   "source": [
    "import matplotlib.pyplot as plt\n",
    "import matplotlib.colors as mcolors\n",
    "import matplotlib.patches as mpatches\n",
    "import geopandas as gpd\n",
    "import cartopy.crs as ccrs\n",
    "import rasterio\n",
    "from rasterio.plot import show\n",
    "import numpy as np\n",
    "import matplotlib.ticker as ticker\n",
    "import matplotlib.path as mpath\n",
    "\n",
    "# Assuming 'gdf', 'moa', and your mapping code is already correctly defined and imported as necessary\n",
    "\n",
    "# Plotting starts here\n",
    "fig, ax = plt.subplots(figsize=(8, 8), subplot_kw={'projection': ccrs.SouthPolarStereo()})\n",
    "\n",
    "# Setup color normalization and colormap\n",
    "norm = mcolors.SymLogNorm(linthresh=1, linscale=1, base=10, vmin=gdf['Area'].min(), vmax=gdf['Area'].max())\n",
    "cmap = cropped_cmap  # Use a grayscale colormap\n",
    "\n",
    "# Reproject and plot GeoDataFrame as earlier\n",
    "with rasterio.open(moa) as tif:\n",
    "    gdf_reprojected = gdf.to_crs(tif.crs)\n",
    "    marker_sizes = gdf_reprojected['Area'] * 0.2\n",
    "    scatter = ax.scatter(gdf_reprojected.geometry.x, gdf_reprojected.geometry.y, s=marker_sizes, c=gdf_reprojected['Area'],\n",
    "                         cmap=cmap, norm=norm, alpha=0.65)\n",
    "    ax.set_extent([-180, 180, -90, -60], crs=ccrs.PlateCarree())\n",
    "    show(tif, ax=ax, transform=ccrs.PlateCarree(), cmap='gist_yarg', vmin=1.05e4, vmax=2.8e4)\n",
    "\n",
    "# Create a colorbar\n",
    "cbar = plt.colorbar(scatter, ax=ax, orientation='vertical', shrink=0.48, pad=0.07)\n",
    "cbar.set_label('Area (sq. km)')\n",
    "\n",
    "\n",
    "# Rest of your plotting code\n",
    "ax.set_title(\"Largest calved iceberg per year, 1976-2023\")\n",
    "ax.set_extent([-180, 180, -90, -60], crs=ccrs.PlateCarree())\n",
    "gl = ax.gridlines(draw_labels=True, linewidth=1, color='k', alpha=0.5, linestyle='--')\n",
    "gl.xlocator = ticker.FixedLocator([-180, -135, -90, -45, 0, 45, 90, 135])\n",
    "gl.ylocator = ticker.FixedLocator([-80, -70, -60])\n",
    "gl.xlabel_style = {'rotation': 0, 'ha': 'center'}\n",
    "\n",
    "\n",
    "for idx, row in gdf_reprojected.iterrows():\n",
    "    if row['Area'] > 6700:\n",
    "        ax.text(row.geometry.x, row.geometry.y, str(row['File_Name']), verticalalignment='top', fontsize=14)\n",
    "\n",
    "# Modify plot boundary to be a circle\n",
    "theta = np.linspace(0, 2*np.pi, 100)\n",
    "center, radius = [0.5, 0.5], 0.5\n",
    "verts = np.vstack([np.sin(theta), np.cos(theta)]).T\n",
    "circle = mpath.Path(verts * radius + center)\n",
    "ax.set_boundary(circle, transform=ax.transAxes)\n",
    "\n",
    "plt.savefig('iceberg_map.pdf',dpi=330)\n",
    "plt.show()"
   ]
  },
  {
   "cell_type": "code",
   "execution_count": null,
   "id": "2469bbbc-b72c-4179-afef-b28c4b67ce14",
   "metadata": {},
   "outputs": [],
   "source": []
  }
 ],
 "metadata": {
  "kernelspec": {
   "display_name": "Python 3 (ipykernel)",
   "language": "python",
   "name": "python3"
  },
  "language_info": {
   "codemirror_mode": {
    "name": "ipython",
    "version": 3
   },
   "file_extension": ".py",
   "mimetype": "text/x-python",
   "name": "python",
   "nbconvert_exporter": "python",
   "pygments_lexer": "ipython3",
   "version": "3.11.8"
  }
 },
 "nbformat": 4,
 "nbformat_minor": 5
}
